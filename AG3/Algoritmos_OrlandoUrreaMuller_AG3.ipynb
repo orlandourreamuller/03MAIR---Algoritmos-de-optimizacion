{
  "nbformat": 4,
  "nbformat_minor": 0,
  "metadata": {
    "colab": {
      "name": "Algoritmos - OrlandoUrreaMuller  - AG3.ipynb",
      "provenance": [],
      "collapsed_sections": [],
      "toc_visible": true
    },
    "kernelspec": {
      "name": "python3",
      "display_name": "Python 3"
    }
  },
  "cells": [
    {
      "cell_type": "markdown",
      "metadata": {
        "id": "Ofrcocl8c9RM"
      },
      "source": [
        "#Actividad Guiada 3<br>\n",
        "\n",
        "Nombre: Orlando Urrea Muller<br>\n",
        "\n",
        "Link: https://colab.research.google.com/drive/14o5C4gsvCF8IQGiiZS7B5esdhra4XO_x?usp=sharing\n",
        "\n",
        "GitHub: https://github.com/orlandourreamuller/03MAIR---Algoritmos-de-optimizacion/tree/master/AG3 \n",
        "\n",
        "\n"
      ]
    },
    {
      "cell_type": "markdown",
      "source": [
        "#Carga de librerias"
      ],
      "metadata": {
        "id": "m-gbxt9BFfdN"
      }
    },
    {
      "cell_type": "code",
      "metadata": {
        "id": "qP-Y3Gkfc4vn",
        "colab": {
          "base_uri": "https://localhost:8080/"
        },
        "outputId": "9ee40c89-ae88-4c69-befd-2c33939d584c"
      },
      "source": [
        "!pip install requests    #Hacer llamadas http a paginas de la red\n",
        "!pip install tsplib95    #Modulo para las instancias del problema del TSP"
      ],
      "execution_count": null,
      "outputs": [
        {
          "output_type": "stream",
          "name": "stdout",
          "text": [
            "Requirement already satisfied: requests in /usr/local/lib/python3.7/dist-packages (2.23.0)\n",
            "Requirement already satisfied: idna<3,>=2.5 in /usr/local/lib/python3.7/dist-packages (from requests) (2.10)\n",
            "Requirement already satisfied: urllib3!=1.25.0,!=1.25.1,<1.26,>=1.21.1 in /usr/local/lib/python3.7/dist-packages (from requests) (1.24.3)\n",
            "Requirement already satisfied: chardet<4,>=3.0.2 in /usr/local/lib/python3.7/dist-packages (from requests) (3.0.4)\n",
            "Requirement already satisfied: certifi>=2017.4.17 in /usr/local/lib/python3.7/dist-packages (from requests) (2021.10.8)\n",
            "Collecting tsplib95\n",
            "  Downloading tsplib95-0.7.1-py2.py3-none-any.whl (25 kB)\n",
            "Requirement already satisfied: Click>=6.0 in /usr/local/lib/python3.7/dist-packages (from tsplib95) (7.1.2)\n",
            "Collecting Deprecated~=1.2.9\n",
            "  Downloading Deprecated-1.2.13-py2.py3-none-any.whl (9.6 kB)\n",
            "Requirement already satisfied: networkx~=2.1 in /usr/local/lib/python3.7/dist-packages (from tsplib95) (2.6.3)\n",
            "Requirement already satisfied: tabulate~=0.8.7 in /usr/local/lib/python3.7/dist-packages (from tsplib95) (0.8.9)\n",
            "Requirement already satisfied: wrapt<2,>=1.10 in /usr/local/lib/python3.7/dist-packages (from Deprecated~=1.2.9->tsplib95) (1.13.3)\n",
            "Installing collected packages: Deprecated, tsplib95\n",
            "Successfully installed Deprecated-1.2.13 tsplib95-0.7.1\n"
          ]
        }
      ]
    },
    {
      "cell_type": "markdown",
      "source": [
        "#Carga de los datos del problema"
      ],
      "metadata": {
        "id": "nHRiJhTnFmuV"
      }
    },
    {
      "cell_type": "code",
      "metadata": {
        "id": "mnA47nhtdKOc"
      },
      "source": [
        "import urllib.request #Hacer llamadas http a paginas de la red\n",
        "import tsplib95       #Modulo para las instancias del problema del TSP\n",
        "import math           #Modulo de funciones matematicas. Se usa para exp\n",
        "\n",
        "#http://elib.zib.de/pub/mp-testdata/tsp/tsplib/\n",
        "#Documentacion : \n",
        "  # http://comopt.ifi.uni-heidelberg.de/software/TSPLIB95/tsp95.pdf\n",
        "  # https://tsplib95.readthedocs.io/en/stable/pages/usage.html\n",
        "  # https://tsplib95.readthedocs.io/en/v0.6.1/modules.html\n",
        "  # https://pypi.org/project/tsplib95/\n",
        "\n",
        "#Descargamos el fichero de datos(Matriz de distancias)\n",
        "file = \"swiss42.tsp\" ; \n",
        "urllib.request.urlretrieve(\"http://elib.zib.de/pub/mp-testdata/tsp/tsplib/tsp/swiss42.tsp\", file) \n",
        "\n",
        "#Coordendas 51-city problem (Christofides/Eilon)\n",
        "#file = \"eil51.tsp\" ; urllib.request.urlretrieve(\"http://elib.zib.de/pub/mp-testdata/tsp/tsplib/tsp/eil51.tsp\", file)\n",
        "\n",
        "#Coordenadas - 48 capitals of the US (Padberg/Rinaldi)\n",
        "#file = \"att48.tsp\" ; urllib.request.urlretrieve(\"http://elib.zib.de/pub/mp-testdata/tsp/tsplib/tsp/att48.tsp\", file)\n",
        "\n",
        "\n"
      ],
      "execution_count": null,
      "outputs": []
    },
    {
      "cell_type": "code",
      "metadata": {
        "id": "ARkZkqP1m3tf"
      },
      "source": [
        "#Modulos extras, no esenciales\n",
        "import numpy as np\n",
        "import matplotlib.pyplot as plt\n",
        "import imageio                    #Para construir las imagenes con gif\n",
        "from google.colab import files    #Para descargar ficheros generados con google colab\n",
        "\n",
        "from tempfile import mkstemp      #Para genera carpetas y ficheros temporales\n",
        "\n",
        "import random                     #Para generar valores aleatorios\n"
      ],
      "execution_count": null,
      "outputs": []
    },
    {
      "cell_type": "code",
      "metadata": {
        "id": "RIXYkDWcfmwd"
      },
      "source": [
        "#Carga de datos y generación de objeto problem\n",
        "###############################################################################\n",
        "problem = tsplib95.load(file)\n",
        "\n",
        "#Nodos\n",
        "Nodos = list(problem.get_nodes())\n",
        "\n",
        "#Aristas\n",
        "Aristas = list(problem.get_edges())\n",
        "\n"
      ],
      "execution_count": null,
      "outputs": []
    },
    {
      "cell_type": "code",
      "metadata": {
        "id": "a7bTofSnn_Jt",
        "colab": {
          "base_uri": "https://localhost:8080/"
        },
        "outputId": "782593d1-9ed6-42db-c211-6e2edbc2916f"
      },
      "source": [
        "#Probamos algunas funciones del objeto problem\n",
        "\n",
        "#Distancia entre nodos\n",
        "problem.get_weight(0, 1)\n",
        "\n",
        "#Todas las funciones\n",
        "#Documentación: https://tsplib95.readthedocs.io/en/v0.6.1/modules.html\n",
        "                \n",
        "#dir(problem)"
      ],
      "execution_count": null,
      "outputs": [
        {
          "output_type": "execute_result",
          "data": {
            "text/plain": [
              "15"
            ]
          },
          "metadata": {},
          "execution_count": 5
        }
      ]
    },
    {
      "cell_type": "markdown",
      "source": [
        "#Funcionas basicas\n"
      ],
      "metadata": {
        "id": "BpwtaRQIFYvO"
      }
    },
    {
      "cell_type": "code",
      "metadata": {
        "id": "tzrkaBS3gmmz"
      },
      "source": [
        " \n",
        "#Funcionas basicas\n",
        "###############################################################################      \n",
        "     \n",
        "#Se genera una solucion aleatoria con comienzo en en el nodo 0\n",
        "def crear_solucion(Nodos): \n",
        "  solucion = [Nodos[0]]\n",
        "  for n in Nodos[1:]:\n",
        "    solucion = solucion + [random.choice(list(set(Nodos) - set({Nodos[0]}) - set(solucion)))]\n",
        "  return solucion \n",
        "\n",
        "#Devuelve la distancia entre dos nodos\n",
        "def distancia(a,b, problem):\n",
        "  return problem.get_weight(a,b)\n",
        "\n",
        "#Devuelve la distancia total de una trayectoria/solucion\n",
        "def distancia_total(solucion, problem):\n",
        "  distancia_total = 0\n",
        "  for i in range(len(solucion)-1):\n",
        "    distancia_total += distancia(solucion[i] ,solucion[i+1] ,  problem)\n",
        "  return distancia_total + distancia(solucion[len(solucion)-1] ,solucion[0], problem)\n",
        "\n",
        "\n",
        " "
      ],
      "execution_count": null,
      "outputs": []
    },
    {
      "cell_type": "markdown",
      "source": [
        "#Busqueda Aleatoria"
      ],
      "metadata": {
        "id": "a8QFBj00Fs8m"
      }
    },
    {
      "cell_type": "code",
      "metadata": {
        "id": "nXhAb4oNk418",
        "colab": {
          "base_uri": "https://localhost:8080/"
        },
        "outputId": "fa12b38a-45cd-49d4-a279-a9dacc60486b"
      },
      "source": [
        "###############################################################################\n",
        "# BUSQUEDA ALEATORIA\n",
        "###############################################################################\n",
        "\n",
        "def busqueda_aleatoria(problem, N):\n",
        "  Nodos = list(problem.get_nodes())\n",
        "  \n",
        "  mejor_solucion = []\n",
        "  #mejor_distancia = 10e100                         #Inicializamos con un valor alto\n",
        "  mejor_distancia = float('inf')                    #Inicializamos con un valor alto\n",
        "  \n",
        "  for i in range(N):                                #Criterio de parada: repetir N veces pero podemos incluir otros\n",
        "    solucion = crear_solucion(Nodos)                #Genera una solucion aleatoria\n",
        "    distancia = distancia_total(solucion, problem)  #Calcula el valor objetivo(distancia total)\n",
        "    \n",
        "    if distancia < mejor_distancia:                 #Compara con la mejor obtenida hasta ahora\n",
        "      mejor_solucion = solucion\n",
        "      mejor_distancia = distancia\n",
        "      \n",
        "      \n",
        "  print(\"Mejor solución:\" , mejor_solucion) \n",
        "  print(\"Distancia     :\" , mejor_distancia) \n",
        "  return mejor_solucion  \n",
        "\n",
        "    \n",
        "#Busqueda aleatoria con 5000 iteraciones    \n",
        "solucion = busqueda_aleatoria(problem, 5000)    \n",
        " "
      ],
      "execution_count": null,
      "outputs": [
        {
          "output_type": "stream",
          "name": "stdout",
          "text": [
            "Mejor solución: [0, 1, 7, 23, 28, 32, 10, 27, 2, 5, 14, 17, 19, 25, 9, 41, 21, 3, 4, 22, 34, 20, 31, 29, 35, 26, 12, 18, 13, 36, 33, 6, 30, 38, 8, 11, 15, 37, 16, 24, 40, 39]\n",
            "Distancia     : 3640\n"
          ]
        }
      ]
    },
    {
      "cell_type": "markdown",
      "source": [
        "#Busqueda Local  2-opt"
      ],
      "metadata": {
        "id": "Q0V7m1JhF2li"
      }
    },
    {
      "cell_type": "code",
      "metadata": {
        "id": "BT2gWJsFm5hM",
        "colab": {
          "base_uri": "https://localhost:8080/"
        },
        "outputId": "bc6dda13-b72d-475b-c62c-e47e25b8c787"
      },
      "source": [
        "###############################################################################\n",
        "# BUSQUEDA LOCAL\n",
        "###############################################################################\n",
        "\n",
        "def genera_vecina(solucion):\n",
        "  #Generador de soluciones vecinas: 2-opt (intercambiar 2 nodos) Si hay N nodos se generan (N-1)x(N-2)/2 soluciones\n",
        "  #Se puede modificar para aplicar otros generadores distintos que 2-opt\n",
        "  #print(solucion)\n",
        "  mejor_solucion = []\n",
        "  mejor_distancia = 10e100\n",
        "  for i in range(1,len(solucion)-1):          #Recorremos todos los nodos en bucle doble para evaluar todos los intercambios 2-opt\n",
        "    for j in range(i+1, len(solucion)):\n",
        "      \n",
        "      #Se genera una nueva solución intercambiando los dos nodos i,j:\n",
        "      #  (usamos el operador + que para listas en python las concatena) : ej.: [1,2] + [3] = [1,2,3]\n",
        "      vecina = solucion[:i] + [solucion[j]] + solucion[i+1:j] + [solucion[i]] + solucion[j+1:]  \n",
        "\n",
        "      #Se evalua la nueva solución ...\n",
        "      distancia_vecina = distancia_total(vecina, problem)         \n",
        "\n",
        "      #... para guardarla si mejora las anteriores\n",
        "      if distancia_vecina <= mejor_distancia:\n",
        "        mejor_distancia = distancia_vecina\n",
        "        mejor_solucion = vecina\n",
        "  return mejor_solucion\n",
        "\n",
        "\n",
        "#solucion = [1, 47, 13, 41, 40, 19, 42, 44, 37, 5, 22, 28, 3, 2, 29, 21, 50, 34, 30, 9, 16, 11, 38, 49, 10, 39, 33, 45, 15, 24, 43, 26, 31, 36, 35, 20, 8, 7, 23, 48, 27, 12, 17, 4, 18, 25, 14, 6, 51, 46, 32]\n",
        "print(\"Distancia Solucion Incial:\" , distancia_total(solucion, problem))\n",
        " \n",
        "\n",
        "nueva_solucion = genera_vecina(solucion)\n",
        "print(\"Distancia Mejor Solucion Local:\", distancia_total(nueva_solucion, problem))\n",
        "\n",
        " "
      ],
      "execution_count": null,
      "outputs": [
        {
          "output_type": "stream",
          "name": "stdout",
          "text": [
            "Distancia Solucion Incial: 3640\n",
            "Distancia Mejor Solucion Local: 3387\n"
          ]
        }
      ]
    },
    {
      "cell_type": "code",
      "metadata": {
        "id": "UdBJg9Q9pYoE",
        "colab": {
          "base_uri": "https://localhost:8080/"
        },
        "outputId": "51788fa8-ea76-4cf7-cc92-fe13c7fc2d5a"
      },
      "source": [
        "#Busqueda Local:\n",
        "#  - Sobre el operador de vecindad 2-opt(funcion genera_vecina)\n",
        "#  - Sin criterio de parada, se para cuando no es posible mejorar.\n",
        "def busqueda_local(problem):\n",
        "  mejor_solucion = []\n",
        "  \n",
        "  #Generar una solucion inicial de referencia(aleatoria)\n",
        "  solucion_referencia = crear_solucion(Nodos)\n",
        "  mejor_distancia = distancia_total(solucion_referencia, problem)\n",
        "\n",
        "  iteracion=0             #Un contador para saber las iteraciones que hacemos\n",
        "  while(1):\n",
        "    iteracion +=1         #Incrementamos el contador\n",
        "    #print('#',iteracion)\n",
        "\n",
        "    #Obtenemos la mejor vecina ...\n",
        "    vecina = genera_vecina(solucion_referencia)\n",
        "\n",
        "    #... y la evaluamos para ver si mejoramos respecto a lo encontrado hasta el momento\n",
        "    distancia_vecina = distancia_total(vecina, problem)\n",
        " \n",
        "    #Si no mejoramos hay que terminar. Hemos llegado a un minimo local(según nuestro operador de vencindad 2-opt)\n",
        "    if distancia_vecina < mejor_distancia:\n",
        "      #mejor_solucion = copy.deepcopy(vecina)   #Con copia profunda. Las copias en python son por referencia \n",
        "      mejor_solucion = vecina                   #Guarda la mejor solución encontrada\n",
        "      mejor_distancia = distancia_vecina\n",
        "\n",
        "    else:\n",
        "      print(\"En la iteracion \", iteracion, \", la mejor solución encontrada es:\" , mejor_solucion) \n",
        "      print(\"Distancia     :\" , mejor_distancia) \n",
        "      return mejor_solucion\n",
        "      \n",
        "    solucion_referencia = vecina\n",
        " \n",
        " \n",
        "sol = busqueda_local(problem )  \n"
      ],
      "execution_count": null,
      "outputs": [
        {
          "output_type": "stream",
          "name": "stdout",
          "text": [
            "En la iteracion  36 , la mejor solución encontrada es: [0, 21, 24, 40, 9, 28, 16, 15, 37, 17, 31, 36, 35, 32, 30, 29, 8, 25, 10, 2, 27, 3, 4, 6, 26, 18, 12, 11, 41, 23, 39, 22, 38, 34, 33, 20, 7, 14, 19, 13, 5, 1]\n",
            "Distancia     : 1843\n"
          ]
        }
      ]
    },
    {
      "cell_type": "markdown",
      "source": [
        "#Simulated Annealing"
      ],
      "metadata": {
        "id": "s1vhzMiaGLMT"
      }
    },
    {
      "cell_type": "code",
      "metadata": {
        "id": "EMwkY1r2pYLw",
        "colab": {
          "base_uri": "https://localhost:8080/"
        },
        "outputId": "39dec927-0060-4e71-927d-18c15a0e8ce9"
      },
      "source": [
        "###############################################################################\n",
        "# SIMULATED ANNEALING\n",
        "###############################################################################\n",
        "\n",
        "#Generador de 1 solucion vecina 2-opt 100% aleatoria (intercambiar 2 nodos)\n",
        "#Mejorable eligiendo otra forma de elegir una vecina.\n",
        "def genera_vecina_aleatorio(solucion):\n",
        "\n",
        "  #Se eligen dos nodos aleatoriamente\n",
        "  i,j = sorted(random.sample( range(1,len(solucion)) , 2))\n",
        "  \n",
        "  #Devuelve una nueva solución pero intercambiando los dos nodos elegidos al azar\n",
        "  return solucion[:i] + [solucion[j]] + solucion[i+1:j] + [solucion[i]] + solucion[j+1:]\n",
        "  \n",
        " \n",
        "genera_vecina_aleatorio(solucion) \n"
      ],
      "execution_count": null,
      "outputs": [
        {
          "output_type": "execute_result",
          "data": {
            "text/plain": [
              "[0,\n",
              " 1,\n",
              " 7,\n",
              " 23,\n",
              " 28,\n",
              " 32,\n",
              " 10,\n",
              " 27,\n",
              " 2,\n",
              " 5,\n",
              " 14,\n",
              " 17,\n",
              " 19,\n",
              " 25,\n",
              " 9,\n",
              " 41,\n",
              " 21,\n",
              " 3,\n",
              " 4,\n",
              " 22,\n",
              " 34,\n",
              " 20,\n",
              " 31,\n",
              " 29,\n",
              " 35,\n",
              " 37,\n",
              " 12,\n",
              " 18,\n",
              " 13,\n",
              " 36,\n",
              " 33,\n",
              " 6,\n",
              " 30,\n",
              " 38,\n",
              " 8,\n",
              " 11,\n",
              " 15,\n",
              " 26,\n",
              " 16,\n",
              " 24,\n",
              " 40,\n",
              " 39]"
            ]
          },
          "metadata": {},
          "execution_count": 10
        }
      ]
    },
    {
      "cell_type": "code",
      "metadata": {
        "id": "GsN1UIDp0j6I"
      },
      "source": [
        "\n",
        "#Funcion de probabilidad para aceptar peores soluciones\n",
        "def probabilidad(T,d):\n",
        "  if random.random() <  math.exp( -1*d / T)  :\n",
        "    return True\n",
        "  else:\n",
        "    return False\n",
        "\n",
        "#Funcion de descenso de temperatura\n",
        "def bajar_temperatura(T):\n",
        "  return T*0.99\n",
        " \n",
        "\n"
      ],
      "execution_count": null,
      "outputs": []
    },
    {
      "cell_type": "code",
      "metadata": {
        "id": "4waPiCcVtuhF",
        "colab": {
          "base_uri": "https://localhost:8080/"
        },
        "outputId": "e792e688-b73d-483f-d72f-0930ec85f39d"
      },
      "source": [
        "def recocido_simulado(problem, TEMPERATURA ):\n",
        "  #problem = datos del problema\n",
        "  #T = Temperatura\n",
        "  \n",
        "  solucion_referencia = crear_solucion(Nodos)\n",
        "  distancia_referencia = distancia_total(solucion_referencia, problem)\n",
        "  \n",
        "  mejor_solucion = []\n",
        "  mejor_distancia = 10e100\n",
        "  \n",
        "  \n",
        "  N=0\n",
        "  while TEMPERATURA > .0001:\n",
        "    N+=1\n",
        "    #Genera una solución vecina\n",
        "    vecina =genera_vecina_aleatorio(solucion_referencia)\n",
        "    \n",
        "    #Calcula su valor(distancia)\n",
        "    distancia_vecina = distancia_total(vecina, problem)\n",
        "      \n",
        "    #Si es la mejor solución de todas se guarda(siempre!!!)\n",
        "    if distancia_vecina < mejor_distancia:\n",
        "        mejor_solucion = vecina\n",
        "        mejor_distancia = distancia_vecina\n",
        "    \n",
        "    #Si la nueva vecina es mejor se cambia  \n",
        "    #Si es peor se cambia según una probabilidad que depende de T y delta(distancia_referencia - distancia_vecina)\n",
        "    if distancia_vecina < distancia_referencia or probabilidad(TEMPERATURA, abs(distancia_referencia - distancia_vecina) ) :\n",
        "      #solucion_referencia = copy.deepcopy(vecina)\n",
        "      solucion_referencia = vecina\n",
        "      distancia_referencia = distancia_vecina\n",
        "\n",
        "    #Bajamos la temperatura\n",
        "    TEMPERATURA = bajar_temperatura(TEMPERATURA)\n",
        " \n",
        "  print(\"La mejor solución encontrada es \" , end=\"\")\n",
        "  print(mejor_solucion)\n",
        "  print(\"con una distancia total de \" , end=\"\")\n",
        "  print(mejor_distancia)\n",
        "  return mejor_solucion\n",
        "\n",
        "sol  = recocido_simulado(problem, 10000000)\n",
        "\n",
        " \n",
        "\n"
      ],
      "execution_count": null,
      "outputs": [
        {
          "output_type": "stream",
          "name": "stdout",
          "text": [
            "La mejor solución encontrada es [0, 12, 11, 25, 8, 41, 40, 24, 21, 9, 3, 1, 7, 31, 20, 36, 35, 33, 34, 30, 27, 29, 38, 22, 39, 23, 10, 18, 6, 4, 2, 28, 32, 17, 37, 15, 5, 26, 13, 19, 16, 14]\n",
            "con una distancia total de 2004\n"
          ]
        }
      ]
    }
  ]
}